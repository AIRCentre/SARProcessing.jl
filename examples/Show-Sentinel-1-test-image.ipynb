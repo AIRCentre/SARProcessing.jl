{
 "cells": [
  {
   "cell_type": "markdown",
   "id": "e25e9f0f",
   "metadata": {},
   "source": [
    "# Show sentinel 1 test image\n",
    "This notebook is an example of how to load and plot a Sentinel 1 SLC image. "
   ]
  },
  {
   "cell_type": "code",
   "execution_count": 6,
   "id": "ad86b72d",
   "metadata": {},
   "outputs": [],
   "source": [
    "using SARProcessing;"
   ]
  },
  {
   "cell_type": "markdown",
   "id": "0bd51d70",
   "metadata": {},
   "source": [
    "## Load sentinel 1 Image"
   ]
  },
  {
   "cell_type": "code",
   "execution_count": 9,
   "id": "aeda81ac",
   "metadata": {},
   "outputs": [
    {
     "data": {
      "text/plain": [
       "1514"
      ]
     },
     "metadata": {},
     "output_type": "display_data"
    }
   ],
   "source": [
    "metadata = SARProcessing.Sentinel1MetaData(\"../test/testData/s1a-iw3-slc-vv-20220918t074921-20220918t074946-045056-056232-006.xml\")\n",
    "metadata.swath.lines_per_burst"
   ]
  },
  {
   "cell_type": "code",
   "execution_count": 15,
   "id": "108c2b2f",
   "metadata": {},
   "outputs": [
    {
     "data": {
      "text/plain": [
       "24203"
      ]
     },
     "metadata": {},
     "output_type": "display_data"
    }
   ],
   "source": [
    "metadata.swath.samples_per_burst"
   ]
  },
  {
   "cell_type": "code",
   "execution_count": 19,
   "id": "4e696893",
   "metadata": {},
   "outputs": [
    {
     "data": {
      "text/plain": [
       "2-element Vector{Vector{Int64}}:\n",
       " [9085, 10598]\n",
       " [1, 24203]"
      ]
     },
     "metadata": {},
     "output_type": "display_data"
    }
   ],
   "source": [
    "burst_number = 7\n",
    "window = [[(metadata.swath.lines_per_burst*(burst_number-1)+1),\n",
    "metadata.swath.lines_per_burst*burst_number],[1,metadata.swath.samples_per_burst]]"
   ]
  },
  {
   "cell_type": "code",
   "execution_count": 12,
   "id": "ffd8a1cd",
   "metadata": {},
   "outputs": [
    {
     "data": {
      "text/plain": [
       "9-element Vector{Float64}:\n",
       "  0.513562\n",
       "  3.272118\n",
       "  6.028619\n",
       "  8.787176\n",
       " 11.545732\n",
       " 14.312510999999999\n",
       " 17.058734\n",
       " 19.819346\n",
       " 22.573792"
      ]
     },
     "metadata": {},
     "output_type": "display_data"
    }
   ],
   "source": [
    "SARProcessing.get_burst_start_times(metadata)"
   ]
  },
  {
   "cell_type": "code",
   "execution_count": 13,
   "id": "9be741dc",
   "metadata": {},
   "outputs": [
    {
     "data": {
      "text/plain": [
       "2022-09-18T07:49:21"
      ]
     },
     "metadata": {},
     "output_type": "display_data"
    }
   ],
   "source": [
    "SARProcessing.get_reference_time(metadata)"
   ]
  },
  {
   "cell_type": "code",
   "execution_count": 25,
   "id": "9b6edbab",
   "metadata": {},
   "outputs": [],
   "source": [
    "slc_path= \"../test/testData/largeFiles/S1A_IW_SLC__1SDV_20220918T074920_20220918T074947_045056_056232_62D6.SAFE/measurement/s1a-iw3-slc-vv-20220918t074921-20220918t074946-045056-056232-006.tiff\";\n",
    "complex_image = SARProcessing.load_tiff(slc_path,window);"
   ]
  },
  {
   "cell_type": "code",
   "execution_count": 26,
   "id": "00b11f88",
   "metadata": {},
   "outputs": [
    {
     "data": {
      "text/plain": [
       "true"
      ]
     },
     "metadata": {},
     "output_type": "display_data"
    }
   ],
   "source": [
    "size(complex_image) == (metadata.swath.lines_per_burst, metadata.swath.samples_per_burst)"
   ]
  },
  {
   "cell_type": "markdown",
   "id": "ffdd7fc9",
   "metadata": {},
   "source": [
    "## Show image\n",
    "The test image shows Angra do Heroísmo on the Azores. Note that east west is mirrored in the sentinel image"
   ]
  },
  {
   "cell_type": "code",
   "execution_count": 46,
   "id": "cced96b1",
   "metadata": {},
   "outputs": [
    {
     "data": {
      "image/png": "[encoded data removed]",
      "text/html": [
       "<img src=\"data:image/png;base64,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\">"
      ],
      "text/plain": [
       "81×76 Array{Gray{Float64},2} with eltype ColorTypes.Gray{Float64}:\n",
       " Gray{Float64}(0.0227061)   …  Gray{Float64}(0.0902022)\n",
       " Gray{Float64}(0.318585)       Gray{Float64}(0.103033)\n",
       " Gray{Float64}(0.00657076)     Gray{Float64}(0.182154)\n",
       " Gray{Float64}(0.00797045)     Gray{Float64}(0.224572)\n",
       " Gray{Float64}(0.168974)       Gray{Float64}(0.152411)\n",
       " Gray{Float64}(0.293079)    …  Gray{Float64}(0.311236)\n",
       " Gray{Float64}(0.387753)       Gray{Float64}(0.591174)\n",
       " Gray{Float64}(0.0301711)      Gray{Float64}(0.529743)\n",
       " Gray{Float64}(0.0199844)      Gray{Float64}(0.273484)\n",
       " Gray{Float64}(0.00909798)     Gray{Float64}(0.0548989)\n",
       " ⋮                          ⋱  ⋮\n",
       " Gray{Float64}(0.00159409)     Gray{Float64}(0.00190513)\n",
       " Gray{Float64}(0.00101089)     Gray{Float64}(0.00470451)\n",
       " Gray{Float64}(0.0283826)      Gray{Float64}(0.00318818)\n",
       " Gray{Float64}(0.018196)    …  Gray{Float64}(0.0146579)\n",
       " Gray{Float64}(0.0106532)      Gray{Float64}(0.0090591)\n",
       " Gray{Float64}(0.00559876)     Gray{Float64}(0.00206065)\n",
       " Gray{Float64}(0.0090591)      Gray{Float64}(0.00797045)\n",
       " Gray{Float64}(0.00423795)     Gray{Float64}(0.0510498)\n",
       " Gray{Float64}(0.00330482)  …  Gray{Float64}(0.0374806)"
      ]
     },
     "metadata": {},
     "output_type": "display_data"
    }
   ],
   "source": [
    "img = SARProcessing.sar2gray(complex_image[1070:1150,11500:4:11800], p_quantile = 0.95)"
   ]
  },
  {
   "cell_type": "code",
   "execution_count": null,
   "id": "c5e1d353",
   "metadata": {},
   "outputs": [],
   "source": []
  }
 ],
 "metadata": {
  "kernelspec": {
   "display_name": "Julia 1.8.1",
   "language": "julia",
   "name": "julia-1.8"
  },
  "language_info": {
   "file_extension": ".jl",
   "mimetype": "application/julia",
   "name": "julia",
   "version": "1.8.1"
  }
 },
 "nbformat": 4,
 "nbformat_minor": 5
}
